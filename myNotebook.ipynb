{
 "cells": [
  {
   "cell_type": "markdown",
   "metadata": {},
   "source": [
    "# My Jupyter Notebook on IBM Watson Studio"
   ]
  },
  {
   "cell_type": "markdown",
   "metadata": {},
   "source": [
    "**Yingte Liu**\n",
    "\n",
    "Digital Transformation Expert"
   ]
  },
  {
   "cell_type": "markdown",
   "metadata": {},
   "source": [
    "> *I am interested in data science because it can enable the manufacturing with the predictive capability and self-adaptability.*"
   ]
  },
  {
   "cell_type": "markdown",
   "metadata": {},
   "source": [
    "### The code below computes the average of the elements in the list"
   ]
  },
  {
   "cell_type": "code",
   "execution_count": null,
   "metadata": {},
   "outputs": [],
   "source": [
    "data_source = [2,3,5,7,11,13,17,19,23,29,31,37,41,43,47]\n",
    "sum = 0\n",
    "i = 0\n",
    "for ele in data_source:\n",
    "    sum += ele\n",
    "    i += 1\n",
    "avg = sum/i\n",
    "print(avg)"
   ]
  },
  {
   "cell_type": "markdown",
   "metadata": {},
   "source": [
    "---\n",
    "-  Item1\n",
    "-  Item2\n",
    "-  Item3\n",
    "-  Item4\n",
    "\n",
    "1. List 1\n",
    "2. List 2\n",
    "3. List 3\n",
    "\n",
    "||This|is|a|table|\n",
    "|---|---|---|---|---|\n",
    "|Row1|1|2|3|4|\n",
    "|Row2|1|2|3|4|"
   ]
  }
 ],
 "metadata": {
  "interpreter": {
   "hash": "3b9fd36a5a2c3ccda13258749fb8c5e337b4fe23e9c4ef7fb27bd43c61e1a6f7"
  },
  "kernelspec": {
   "display_name": "Python 3.9.0 64-bit",
   "language": "python",
   "name": "python3"
  },
  "language_info": {
   "codemirror_mode": {
    "name": "ipython",
    "version": 3
   },
   "file_extension": ".py",
   "mimetype": "text/x-python",
   "name": "python",
   "nbconvert_exporter": "python",
   "pygments_lexer": "ipython3",
   "version": "3.9.0"
  },
  "orig_nbformat": 4
 },
 "nbformat": 4,
 "nbformat_minor": 2
}
